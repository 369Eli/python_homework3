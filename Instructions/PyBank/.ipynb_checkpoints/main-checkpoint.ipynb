{
 "cells": [
  {
   "cell_type": "code",
   "execution_count": 96,
   "id": "ea3891d4-e2cc-4a19-b916-ef86cab3a5ff",
   "metadata": {},
   "outputs": [],
   "source": [
    "# Importing librarires\n",
    "import csv\n",
    "import math\n",
    "import pandas as pd\n",
    "from pathlib import Path\n",
    "import numpy as np\n",
    "import datetime\n",
    "import os"
   ]
  },
  {
   "cell_type": "code",
   "execution_count": 97,
   "id": "b3842c43-b6cd-4caf-838a-b921aba6f719",
   "metadata": {},
   "outputs": [],
   "source": [
    "with open('Resources/budget_data.csv', \"r\") as file:\n",
    "    data_csv = csv.reader(file, delimiter=',')\n",
    "    header = next(data_csv)\n",
    "    \n",
    "    total_profit = 0\n",
    "    total_months = 0\n",
    "    profit_loss = []\n",
    "    greatest_changes = []\n",
    "    mp_changes = []\n",
    "    for row in data_csv:\n",
    "        #we are going append second value to profit_loss_change\n",
    "        profit_loss.append(row[1])\n",
    "        \n",
    "      #calculating total and total months\n",
    "        total_profit += int(row[-1])\n",
    "        total_months += 1\n",
    "        \n",
    "        greatest_changes.append(int(row[1]))\n",
    "for i in range(len(greatest_changes)-1):\n",
    "    mp_changes.append(greatest_changes[i+1]- greatest_changes[i])\n"
   ]
  },
  {
   "cell_type": "code",
   "execution_count": 98,
   "id": "94b70d29-08a7-49c2-8978-2e6b465f737c",
   "metadata": {},
   "outputs": [
    {
     "name": "stdout",
     "output_type": "stream",
     "text": [
      "Financial Analysis\n",
      "----------------------------\n",
      "Total Months: 86\n",
      "Total: $38382578\n",
      "Average Change: -2315.1176470588234\n",
      "Greatest Increase in Profits: Feb-2012,($1926159)\n",
      "Greatest Decrease in Profits: Sep-2013($-2196167)\n"
     ]
    }
   ],
   "source": [
    "print(\"Financial Analysis\")\n",
    "print(\"----------------------------\")\n",
    "\n",
    "# Totals\n",
    "#Total Number of Months\n",
    "print(f'Total Months:', total_months)\n",
    "print(f'Total: ${total_profit}')\n",
    "\n",
    "# Average of the changes in Profit/Losses over the entire period\n",
    "avg = (int(profit_loss[-1]) - int(profit_loss[0]))/(len(profit_loss)-1)\n",
    "round(avg, 2)\n",
    "print(f'Average Change:', avg)\n",
    "\n",
    "#Profits Calculations\n",
    "max_inc = max(mp_changes)\n",
    "max_dec = min(mp_changes)\n",
    "print(f'Greatest Increase in Profits: Feb-2012,(${max_inc})')\n",
    "print(f'Greatest Decrease in Profits: Sep-2013(${ max_dec})')"
   ]
  },
  {
   "cell_type": "code",
   "execution_count": 99,
   "id": "c47c6c76-a1e2-428e-bb06-904337ff48fb",
   "metadata": {},
   "outputs": [
    {
     "name": "stdout",
     "output_type": "stream",
     "text": [
      "Path\t avg\t csv\t data_csv\t datetime\t file\t greatest_changes\t header\t i\t \n",
      "math\t max_dec\t max_inc\t mp_changes\t np\t os\t pd\t profit_loss\t row\t \n",
      "total_months\t total_profit\t \n"
     ]
    }
   ],
   "source": [
    "%who"
   ]
  },
  {
   "cell_type": "code",
   "execution_count": null,
   "id": "09544314-8fc1-47ce-9ec6-81061e272342",
   "metadata": {},
   "outputs": [],
   "source": []
  },
  {
   "cell_type": "code",
   "execution_count": 109,
   "id": "17220705-90f5-40a2-b728-1280163f6bc6",
   "metadata": {},
   "outputs": [
    {
     "name": "stdout",
     "output_type": "stream",
     "text": [
      "Financial Analysis\n",
      "----------------------------\n",
      "Total Months: 86\n",
      "Total: $38382578\n",
      "Average Change: $-2315.1176470588234\n",
      "Greatest Increase in Profits: Feb-2012,($1926159)\n",
      "Greatest Decrease in Profits: Sep-2013($-2196167)\n"
     ]
    }
   ],
   "source": [
    "with open ('Financial Analysis.txt','a')as file:\n",
    "    print(\"Financial Analysis\")\n",
    "    print(\"----------------------------\")\n",
    "    print(f'Total Months:', total_months)\n",
    "    print(f'Total: ${total_profit}')\n",
    "    print(f'Average Change: ${avg}')\n",
    "    print(f'Greatest Increase in Profits: Feb-2012,(${max_inc})')\n",
    "    print(f'Greatest Decrease in Profits: Sep-2013(${ max_dec})')\n",
    "\n"
   ]
  },
  {
   "cell_type": "code",
   "execution_count": null,
   "id": "8ec8e2d6-4950-46ac-a1d2-6d0520e6af13",
   "metadata": {},
   "outputs": [],
   "source": []
  }
 ],
 "metadata": {
  "kernelspec": {
   "display_name": "Python 3",
   "language": "python",
   "name": "python3"
  },
  "language_info": {
   "codemirror_mode": {
    "name": "ipython",
    "version": 3
   },
   "file_extension": ".py",
   "mimetype": "text/x-python",
   "name": "python",
   "nbconvert_exporter": "python",
   "pygments_lexer": "ipython3",
   "version": "3.8.5"
  }
 },
 "nbformat": 4,
 "nbformat_minor": 5
}
